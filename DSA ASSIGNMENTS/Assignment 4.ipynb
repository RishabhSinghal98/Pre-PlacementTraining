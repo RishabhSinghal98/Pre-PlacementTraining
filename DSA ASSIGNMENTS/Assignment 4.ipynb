{
 "cells": [
  {
   "cell_type": "markdown",
   "id": "23128f14",
   "metadata": {},
   "source": [
    "#  ARRAY ASSIGNEMENT NO 4"
   ]
  },
  {
   "cell_type": "markdown",
   "id": "4944a533",
   "metadata": {},
   "source": [
    "\n",
    "💡 **Question 1**\n",
    "\n",
    "Given three integer arrays arr1, arr2 and arr3 **sorted** in **strictly increasing** order, return a sorted array of **only** the integers that appeared in **all** three arrays.\n",
    "\n",
    "**Example 1:**\n",
    "\n",
    "Input: arr1 = [1,2,3,4,5], arr2 = [1,2,5,7,9], arr3 = [1,3,4,5,8]\n",
    "\n",
    "Output: [1,5]\n",
    "\n",
    "**Explanation:** Only 1 and 5 appeared in the three arrays.\n",
    "\n",
    "</aside>"
   ]
  },
  {
   "cell_type": "code",
   "execution_count": 1,
   "id": "101f84cf",
   "metadata": {},
   "outputs": [
    {
     "name": "stdout",
     "output_type": "stream",
     "text": [
      "[1, 5]\n"
     ]
    }
   ],
   "source": [
    "def all_appear_integers(arr_1,arr_2,arr_3):\n",
    "    i = 0\n",
    "    j = 0\n",
    "    k = 0\n",
    "    Output = []\n",
    "    while i<len(arr_1) and j < len(arr_2) and k < len(arr_3):\n",
    "        if arr_1[i] == arr_2[j] and arr_2[j] == arr_3[k]:\n",
    "            Output.append(arr_1[i])\n",
    "            i += 1\n",
    "            j += 1\n",
    "            k += 1\n",
    "            \n",
    "        elif arr_1[i] < arr_2[j]:\n",
    "            i += 1\n",
    " \n",
    "        elif arr_2[j] < arr_3[k]:\n",
    "            j += 1\n",
    "\n",
    "        else:\n",
    "            k += 1\n",
    "    return Output\n",
    "        \n",
    "            \n",
    "\n",
    "arr1 = [1,2,3,4,5]\n",
    "arr2 = [1,2,5,7,9]\n",
    "arr3 = [1,3,4,5,8]\n",
    "print(all_appear_integers(arr1,arr2,arr3))"
   ]
  },
  {
   "cell_type": "markdown",
   "id": "d2bd954a",
   "metadata": {},
   "source": [
    "\n",
    "💡 **Question 2**\n",
    "\n",
    "Given two **0-indexed** integer arrays nums1 and nums2, return *a list* answer *of size* 2 *where:*\n",
    "\n",
    "- answer[0] *is a list of all **distinct** integers in* nums1 *which are **not** present in* nums2*.*\n",
    "- answer[1] *is a list of all **distinct** integers in* nums2 *which are **not** present in* nums1.\n",
    "\n",
    "**Note** that the integers in the lists may be returned in **any** order.\n",
    "\n",
    "**Example 1:**\n",
    "\n",
    "**Input:** nums1 = [1,2,3], nums2 = [2,4,6]\n",
    "\n",
    "**Output:** [[1,3],[4,6]]\n",
    "\n",
    "**Explanation:**\n",
    "\n",
    "For nums1, nums1[1] = 2 is present at index 0 of nums2, whereas nums1[0] = 1 and nums1[2] = 3 are not present in nums2. Therefore, answer[0] = [1,3].\n",
    "\n",
    "For nums2, nums2[0] = 2 is present at index 1 of nums1, whereas nums2[1] = 4 and nums2[2] = 6 are not present in nums2. Therefore, answer[1] = [4,6].\n",
    "\n",
    "</aside>"
   ]
  },
  {
   "cell_type": "code",
   "execution_count": 2,
   "id": "82ba93c2",
   "metadata": {},
   "outputs": [
    {
     "name": "stdout",
     "output_type": "stream",
     "text": [
      "[[1, 3], [1, 3]]\n"
     ]
    }
   ],
   "source": [
    "def distinct(arr1,arr2):\n",
    "    Output = [[x for x in arr1 if x not in arr2], [x for x in arr1 if x not in arr2]]\n",
    "    \n",
    "    return Output\n",
    "    \n",
    "nums1 = [1,2,3]\n",
    "nums2 = [2,4,6]\n",
    "print(distinct(nums1,nums2))"
   ]
  },
  {
   "cell_type": "markdown",
   "id": "0cb42928",
   "metadata": {},
   "source": [
    "\n",
    "💡 **Question 3**\n",
    "\n",
    "Given a 2D integer array matrix, return *the **transpose** of* matrix.\n",
    "The **transpose** of a matrix is the matrix flipped over its main diagonal, switching the matrix's row and column indices.\n",
    "\n",
    "**Example 1:**\n",
    "\n",
    "Input: matrix = [[1,2,3],[4,5,6],[7,8,9]]\n",
    "\n",
    "Output: [[1,4,7],[2,5,8],[3,6,9]]\n",
    "\n",
    "</aside>"
   ]
  },
  {
   "cell_type": "code",
   "execution_count": 3,
   "id": "dbd99996",
   "metadata": {},
   "outputs": [
    {
     "name": "stdout",
     "output_type": "stream",
     "text": [
      "[[1, 2, 3], [2, 5, 6], [3, 6, 9]]\n"
     ]
    }
   ],
   "source": [
    "def transpose(matrix):\n",
    "    length = len(matrix)\n",
    "    n = len(matrix)\n",
    "    for i in range(n):\n",
    "        for j in range(n):\n",
    "            if i > j:\n",
    "                matrix[i][j] = matrix[j][i]\n",
    "    return matrix\n",
    "matrix = [[1,2,3],[4,5,6],[7,8,9]]\n",
    "print(transpose(matrix))"
   ]
  },
  {
   "cell_type": "markdown",
   "id": "5e206ff3",
   "metadata": {},
   "source": [
    "\n",
    "💡 **Question 4**\n",
    "\n",
    "Given an integer array nums of 2n integers, group these integers into n pairs (a1, b1), (a2, b2), ..., (an, bn) such that the sum of min(ai, bi) for all i is **maximized**. Return *the maximized sum*.\n",
    "\n",
    "**Example 1:**\n",
    "\n",
    "Input: nums = [1,4,3,2]\n",
    "\n",
    "Output: 4\n",
    "\n",
    "**Explanation:** All possible pairings (ignoring the ordering of elements) are:\n",
    "\n",
    "1. (1, 4), (2, 3) -> min(1, 4) + min(2, 3) = 1 + 2 = 3\n",
    "\n",
    "2. (1, 3), (2, 4) -> min(1, 3) + min(2, 4) = 1 + 2 = 3\n",
    "\n",
    "3. (1, 2), (3, 4) -> min(1, 2) + min(3, 4) = 1 + 3 = 4\n",
    "\n",
    "So the maximum possible sum is 4.\n",
    "\n",
    "</aside>"
   ]
  },
  {
   "cell_type": "code",
   "execution_count": 4,
   "id": "2dbb9b6f",
   "metadata": {},
   "outputs": [
    {
     "name": "stdout",
     "output_type": "stream",
     "text": [
      "4\n"
     ]
    }
   ],
   "source": [
    "def pair_group_to_integer(arr):\n",
    "    arr.sort()\n",
    "    result = 0\n",
    "\n",
    "    for i in range(0, len(arr), 2):\n",
    "        pair_sum = min(arr[i], arr[i+1]) if i+1 < len(arr) else arr[i]\n",
    "        result += pair_sum\n",
    "\n",
    "    return result\n",
    "\n",
    "nums = [1,4,3,2]\n",
    "print(pair_group_to_integer(nums))"
   ]
  },
  {
   "cell_type": "markdown",
   "id": "efb44f68",
   "metadata": {},
   "source": [
    "\n",
    "💡 **Question 5**\n",
    "\n",
    "You have n coins and you want to build a staircase with these coins. The staircase consists of k rows where the ith row has exactly i coins. The last row of the staircase **may be** incomplete.\n",
    "\n",
    "Given the integer n, return *the number of **complete rows** of the staircase you will build*.\n",
    "\n",
    "\n",
    "**Input:** n = 5\n",
    "\n",
    "**Output:** 2\n",
    "\n",
    "**Explanation:** Because the 3rd row is incomplete, we return 2.\n",
    "\n",
    "</aside>"
   ]
  },
  {
   "cell_type": "code",
   "execution_count": 5,
   "id": "4f27a7d7",
   "metadata": {},
   "outputs": [
    {
     "name": "stdout",
     "output_type": "stream",
     "text": [
      "2\n"
     ]
    }
   ],
   "source": [
    "def coins(n):\n",
    "    left, right = 0, n\n",
    "    while left <= right:\n",
    "        mid = left + (right - left) // 2\n",
    "        curr = (mid * (mid + 1)) // 2\n",
    "        if curr == n:\n",
    "            return mid\n",
    "        elif curr < n:\n",
    "            left = mid + 1\n",
    "        else:\n",
    "            right = mid - 1\n",
    "    return right\n",
    "\n",
    "m = 5\n",
    "print(coins(m))"
   ]
  },
  {
   "cell_type": "markdown",
   "id": "7fc3f7df",
   "metadata": {},
   "source": [
    "\n",
    "💡 **Question 6**\n",
    "\n",
    "Given an integer array nums sorted in **non-decreasing** order, return *an array of **the squares of each number** sorted in non-decreasing order*.\n",
    "\n",
    "**Example 1:**\n",
    "\n",
    "Input: nums = [-4,-1,0,3,10]\n",
    "\n",
    "Output: [0,1,9,16,100]\n",
    "\n",
    "**Explanation:** After squaring, the array becomes [16,1,0,9,100].\n",
    "After sorting, it becomes [0,1,9,16,100]\n",
    "\n",
    "</aside>"
   ]
  },
  {
   "cell_type": "code",
   "execution_count": 6,
   "id": "509370ba",
   "metadata": {},
   "outputs": [
    {
     "name": "stdout",
     "output_type": "stream",
     "text": [
      "[0, 1, 9, 16, 100]\n"
     ]
    }
   ],
   "source": [
    "def square_number(arr):\n",
    "    for i in range(len(arr)):\n",
    "        arr[i] = arr[i] * arr[i]\n",
    "    return arr\n",
    "                   \n",
    "\n",
    "nums = [-4,-1,0,3,10]\n",
    "sqrt = square_number(nums)\n",
    "sqrt.sort()\n",
    "print(sqrt)"
   ]
  },
  {
   "cell_type": "markdown",
   "id": "ab5f2212",
   "metadata": {},
   "source": [
    "\n",
    "💡 **Question 7**\n",
    "\n",
    "You are given an m x n matrix M initialized with all 0's and an array of operations ops, where ops[i] = [ai, bi] means M[x][y] should be incremented by one for all 0 <= x < ai and 0 <= y < bi.\n",
    "\n",
    "Count and return *the number of maximum integers in the matrix after performing all the operations\n",
    "\n",
    "**Input:** m = 3, n = 3, ops = [[2,2],[3,3]]\n",
    "\n",
    "**Output:** 4\n",
    "\n",
    "**Explanation:** The maximum integer in M is 2, and there are four of it in M. So return 4.\n",
    "\n",
    "</aside>"
   ]
  },
  {
   "cell_type": "code",
   "execution_count": 7,
   "id": "d444ae4c",
   "metadata": {},
   "outputs": [
    {
     "name": "stdout",
     "output_type": "stream",
     "text": [
      "4\n"
     ]
    }
   ],
   "source": [
    "def maxCount(arr,m,n):\n",
    "        for r,c in ops:\n",
    "            m = min(m,r)\n",
    "            n = min(c,n)\n",
    "        return m*n\n",
    "    \n",
    "ops = [[2,2],[3,3]]\n",
    "m = 3\n",
    "n = 3\n",
    "print(maxCount(nums,m,n))"
   ]
  },
  {
   "cell_type": "markdown",
   "id": "7f9bac79",
   "metadata": {},
   "source": [
    "\n",
    "💡 **Question 8**\n",
    "\n",
    "Given the array nums consisting of 2n elements in the form [x1,x2,...,xn,y1,y2,...,yn].\n",
    "\n",
    "*Return the array in the form* [x1,y1,x2,y2,...,xn,yn].\n",
    "\n",
    "**Example 1:**\n",
    "\n",
    "**Input:** nums = [2,5,1,3,4,7], n = 3\n",
    "\n",
    "**Output:** [2,3,5,4,1,7]\n",
    "\n",
    "**Explanation:** Since x1=2, x2=5, x3=1, y1=3, y2=4, y3=7 then the answer is [2,3,5,4,1,7].\n",
    "\n",
    "</aside>"
   ]
  },
  {
   "cell_type": "code",
   "execution_count": 8,
   "id": "00214320",
   "metadata": {},
   "outputs": [
    {
     "name": "stdout",
     "output_type": "stream",
     "text": [
      "[2, 3, 5, 4, 1, 7]\n"
     ]
    }
   ],
   "source": [
    "def lebel(arr,x):\n",
    "    Output = []\n",
    "    i = 0\n",
    "    j = x\n",
    "    while(i <n or j <2*n):\n",
    "        Output.append(arr[i])\n",
    "        Output.append(arr[j])\n",
    "        i += 1\n",
    "        j += 1\n",
    "    return Output\n",
    "\n",
    "nums = [2,5,1,3,4,7]\n",
    "n = 3\n",
    "print(lebel(nums,n))"
   ]
  },
  {
   "cell_type": "markdown",
   "id": "30ff60c3",
   "metadata": {},
   "source": [
    "# Thank You"
   ]
  },
  {
   "cell_type": "markdown",
   "id": "3edd092e",
   "metadata": {},
   "source": []
  }
 ],
 "metadata": {
  "kernelspec": {
   "display_name": "Python 3 (ipykernel)",
   "language": "python",
   "name": "python3"
  },
  "language_info": {
   "codemirror_mode": {
    "name": "ipython",
    "version": 3
   },
   "file_extension": ".py",
   "mimetype": "text/x-python",
   "name": "python",
   "nbconvert_exporter": "python",
   "pygments_lexer": "ipython3",
   "version": "3.9.13"
  }
 },
 "nbformat": 4,
 "nbformat_minor": 5
}
