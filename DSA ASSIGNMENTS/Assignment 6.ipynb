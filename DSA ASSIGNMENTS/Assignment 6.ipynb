{
 "cells": [
  {
   "cell_type": "markdown",
   "id": "bc75299e",
   "metadata": {},
   "source": [
    "#  ARRAY ASSIGNEMENT NO 6"
   ]
  },
  {
   "cell_type": "markdown",
   "id": "8956706c",
   "metadata": {},
   "source": [
    "\n",
    "💡 **Question 1**\n",
    "\n",
    "A permutation perm of n + 1 integers of all the integers in the range [0, n] can be represented as a string s of length n where:\n",
    "\n",
    "- s[i] == 'I' if perm[i] < perm[i + 1], and\n",
    "- s[i] == 'D' if perm[i] > perm[i + 1].\n",
    "\n",
    "Given a string s, reconstruct the permutation perm and return it. If there are multiple valid permutations perm, return **any of them**.\n",
    "\n",
    "**Example 1:**\n",
    "\n",
    "**Input:** s = \"IDID\"\n",
    "\n",
    "**Output:**\n",
    "\n",
    "[0,4,1,3,2]\n",
    "\n",
    "</aside>"
   ]
  },
  {
   "cell_type": "code",
   "execution_count": 1,
   "id": "046d129c",
   "metadata": {},
   "outputs": [
    {
     "name": "stdout",
     "output_type": "stream",
     "text": [
      "[0, 5, 1, 4, 2]\n"
     ]
    }
   ],
   "source": [
    "def permutation(perm):\n",
    "    n = len(perm)\n",
    "    low = 0\n",
    "    high = n\n",
    "    value = []\n",
    "    for i in range(n):\n",
    "        if perm[i] == \"I\":\n",
    "            value.append(low)\n",
    "            low +=1\n",
    "        else:\n",
    "            value.append(high)\n",
    "            high -= 1\n",
    "    return value\n",
    "\n",
    "s = \"IDIDI\"\n",
    "print(permutation(s))"
   ]
  },
  {
   "cell_type": "markdown",
   "id": "875709c3",
   "metadata": {},
   "source": [
    "\n",
    "💡 **Question 2**\n",
    "\n",
    "You are given an m x n integer matrix matrix with the following two properties:\n",
    "\n",
    "- Each row is sorted in non-decreasing order.\n",
    "- The first integer of each row is greater than the last integer of the previous row.\n",
    "\n",
    "Given an integer target, return true *if* target *is in* matrix *or* false *otherwise*.\n",
    "\n",
    "You must write a solution in O(log(m * n)) time complexity.\n",
    "\n",
    "\n",
    "**Input:** matrix = [[1,3,5,7],[10,11,16,20],[23,30,34,60]], target = 3\n",
    "\n",
    "**Output:** true\n",
    "\n",
    "</aside>"
   ]
  },
  {
   "cell_type": "code",
   "execution_count": 2,
   "id": "2638502a",
   "metadata": {},
   "outputs": [
    {
     "name": "stdout",
     "output_type": "stream",
     "text": [
      "True\n"
     ]
    }
   ],
   "source": [
    "def inc_or_dec(matrix, target):\n",
    "    for row in matrix:\n",
    "        for element in row:\n",
    "            if element == target:\n",
    "                return True\n",
    "    return False\n",
    "\n",
    "        \n",
    "matrix = [[1,3,5,7],[10,11,16,20],[23,30,34,60]]\n",
    "target = 3\n",
    "print(inc_or_dec(matrix,target))"
   ]
  },
  {
   "cell_type": "markdown",
   "id": "3dd3f658",
   "metadata": {},
   "source": [
    "\n",
    "💡 **Question 3**\n",
    "\n",
    "Given an array of integers arr, return *true if and only if it is a valid mountain array*.\n",
    "\n",
    "Recall that arr is a mountain array if and only if:\n",
    "\n",
    "- arr.length >= 3\n",
    "- There exists some i with 0 < i < arr.length - 1 such that:\n",
    "    - arr[0] < arr[1] < ... < arr[i - 1] < arr[i]\n",
    "    - arr[i] > arr[i + 1] > ... > arr[arr.length - 1]\n",
    "\n",
    "\n",
    "\n",
    "\n",
    "**Example 1:**\n",
    "\n",
    "**Input:** arr = [2,1]\n",
    "\n",
    "**Output:** false\n",
    "\n",
    "</aside>"
   ]
  },
  {
   "cell_type": "code",
   "execution_count": 3,
   "id": "568493b9",
   "metadata": {},
   "outputs": [
    {
     "name": "stdout",
     "output_type": "stream",
     "text": [
      "False\n"
     ]
    }
   ],
   "source": [
    "def validMountArray(Arr):\n",
    "    i = 0\n",
    "    if(len(Arr)<3):\n",
    "        return False\n",
    "        i = 1\n",
    "    while(i<len(Arr) and Arr[i]>Arr[i-1]):\n",
    "        i+=1\n",
    "    if(i==1 or i==len(Arr)):\n",
    "        return False\n",
    "    while(i<len(Arr) and Arr[i]<Arr[i-1]):\n",
    "        i+=1\n",
    "    return i==len(Arr)\n",
    "\n",
    "Arr = [2,1]\n",
    "print(validMountArray(Arr))"
   ]
  },
  {
   "cell_type": "markdown",
   "id": "9e225218",
   "metadata": {},
   "source": [
    "\n",
    "💡 **Question 4**\n",
    "\n",
    "Given a binary array nums, return *the maximum length of a contiguous subarray with an equal number of* 0 *and* 1.\n",
    "\n",
    "**Example 1:**\n",
    "\n",
    "**Input:** nums = [0,1]\n",
    "\n",
    "**Output:** 2\n",
    "\n",
    "**Explanation:**\n",
    "\n",
    "[0, 1] is the longest contiguous subarray with an equal number of 0 and 1.\n",
    "\n",
    "</aside>"
   ]
  },
  {
   "cell_type": "code",
   "execution_count": 4,
   "id": "2768f072",
   "metadata": {},
   "outputs": [
    {
     "name": "stdout",
     "output_type": "stream",
     "text": [
      "(1, 4)\n"
     ]
    }
   ],
   "source": [
    "def findLargestSublist(nums):\n",
    "    d = {}\n",
    "    d[0] = -1\n",
    "    length = 0\n",
    "    ending_index = -1\n",
    "    total = 0\n",
    " \n",
    "    for i in range(len(nums)):\n",
    " \n",
    "        total += -1 if (nums[i] == 0) else 1\n",
    "        if total in d:\n",
    "            if length < i - d.get(total):\n",
    "                length = i - d.get(total)\n",
    "                ending_index = i\n",
    "        else:\n",
    "            d[total] = i\n",
    "            \n",
    "    if ending_index != -1:\n",
    "        print((ending_index - length + 1, ending_index))\n",
    "    else:\n",
    "        print('No sublist exists')\n",
    " \n",
    " \n",
    "\n",
    "nums = [0, 0, 1, 0, 1, 0, 0]\n",
    "findLargestSublist(nums)\n",
    " \n"
   ]
  },
  {
   "cell_type": "markdown",
   "id": "b36a00cb",
   "metadata": {},
   "source": [
    "\n",
    "💡 **Question 5**\n",
    "\n",
    "The **product sum** of two equal-length arrays a and b is equal to the sum of a[i] * b[i] for all 0 <= i < a.length (**0-indexed**).\n",
    "\n",
    "- For example, if a = [1,2,3,4] and b = [5,2,3,1], the **product sum** would be 1*5 + 2*2 + 3*3 + 4*1 = 22.\n",
    "\n",
    "Given two arrays nums1 and nums2 of length n, return *the **minimum product sum** if you are allowed to **rearrange** the **order** of the elements in* nums1.\n",
    "\n",
    "**Example 1:**\n",
    "\n",
    "**Input:** nums1 = [5,3,4,2], nums2 = [4,2,2,5]\n",
    "\n",
    "**Output:** 40\n",
    "\n",
    "**Explanation:**\n",
    "\n",
    "We can rearrange nums1 to become [3,5,4,2]. The product sum of [3,5,4,2] and [4,2,2,5] is 3*4 + 5*2 + 4*2 + 2*5 = 40.\n",
    "\n",
    "</aside>"
   ]
  },
  {
   "cell_type": "code",
   "execution_count": 5,
   "id": "abc38ae1",
   "metadata": {},
   "outputs": [
    {
     "name": "stdout",
     "output_type": "stream",
     "text": [
      "40\n"
     ]
    }
   ],
   "source": [
    "def rearrange_product(nums1,num2):\n",
    "    nums1.sort()\n",
    "    nums2.sort()    \n",
    "    n = len(nums1) \n",
    "    result = 0\n",
    "    for i in range(n):\n",
    "        result += nums1[i] * nums2[n - i - 1]\n",
    "    return result\n",
    "\n",
    "\n",
    "nums1 = [5,3,4,2]\n",
    "nums2 = [4,2,2,5]\n",
    "\n",
    "print(rearrange_product(nums1,nums2))\n"
   ]
  },
  {
   "cell_type": "markdown",
   "id": "b71ec1b8",
   "metadata": {},
   "source": [
    "\n",
    "💡 **Question 6**\n",
    "\n",
    "An integer array original is transformed into a **doubled** array changed by appending **twice the value** of every element in original, and then randomly **shuffling** the resulting array.\n",
    "\n",
    "Given an array changed, return original *if* changed *is a **doubled** array. If* changed *is not a **doubled** array, return an empty array. The elements in* original *may be returned in **any** order*.\n",
    "\n",
    "**Example 1:**\n",
    "\n",
    "**Input:** changed = [1,3,4,2,6,8]\n",
    "\n",
    "**Output:** [1,3,4]\n",
    "\n",
    "**Explanation:** One possible original array could be [1,3,4]:\n",
    "\n",
    "- Twice the value of 1 is 1 * 2 = 2.\n",
    "- Twice the value of 3 is 3 * 2 = 6.\n",
    "- Twice the value of 4 is 4 * 2 = 8.\n",
    "\n",
    "Other original arrays could be [4,3,1] or [3,1,4].\n",
    "\n",
    "</aside>"
   ]
  },
  {
   "cell_type": "code",
   "execution_count": 6,
   "id": "2a26e3c7",
   "metadata": {},
   "outputs": [
    {
     "name": "stdout",
     "output_type": "stream",
     "text": [
      "[1, 3, 4]\n"
     ]
    }
   ],
   "source": [
    "def find_original_array(changed):\n",
    "    original = []\n",
    "    changed_dict = {}\n",
    "    \n",
    "    for num in changed:\n",
    "        if num in changed_dict:\n",
    "            changed_dict[num] += 1\n",
    "        else:\n",
    "            changed_dict[num] = 1\n",
    "    \n",
    "    for num in changed:\n",
    "        if num * 2 in changed_dict and changed_dict[num] > 0 and changed_dict[num * 2] > 0:\n",
    "            original.append(num)\n",
    "            changed_dict[num] -= 1\n",
    "            changed_dict[num * 2] -= 1\n",
    "    \n",
    "    return original\n",
    "\n",
    "    \n",
    "changed = [1,3,4,2,6,8]\n",
    "print(find_original_array(changed))"
   ]
  },
  {
   "cell_type": "markdown",
   "id": "b0d85396",
   "metadata": {},
   "source": [
    "\n",
    "💡 **Question 7**\n",
    "\n",
    "Given a positive integer n, generate an n x n matrix filled with elements from 1 to n2 in spiral order.\n",
    "\n",
    "**Input:** n = 3\n",
    "\n",
    "**Output:** [[1,2,3],[8,9,4],[7,6,5]]\n",
    "\n",
    "</aside>"
   ]
  },
  {
   "cell_type": "code",
   "execution_count": 7,
   "id": "fd957148",
   "metadata": {},
   "outputs": [
    {
     "name": "stdout",
     "output_type": "stream",
     "text": [
      "[[1, 2, 3], [8, 9, 4], [7, 6, 5]]\n"
     ]
    }
   ],
   "source": [
    "def spiral_order(arr, n):\n",
    "    new_array = [[0] * n for _ in range(n)]\n",
    "    left = 0\n",
    "    right = n - 1\n",
    "    top = 0\n",
    "    bottom = n - 1\n",
    "    index = 0\n",
    "\n",
    "    while left <= right and top <= bottom:\n",
    "        for col in range(left, right + 1):\n",
    "            new_array[top][col] = arr[index]\n",
    "            index += 1\n",
    "        top += 1\n",
    "\n",
    "        for row in range(top, bottom + 1):\n",
    "            new_array[row][right] = arr[index]\n",
    "            index += 1\n",
    "        right -= 1\n",
    "\n",
    "        if top <= bottom:\n",
    "            for col in range(right, left - 1, -1):\n",
    "                new_array[bottom][col] = arr[index]\n",
    "                index += 1\n",
    "            bottom -= 1\n",
    "\n",
    "        if left <= right:\n",
    "            for row in range(bottom, top - 1, -1):\n",
    "                new_array[row][left] = arr[index]\n",
    "                index += 1\n",
    "            left += 1\n",
    "\n",
    "    return new_array\n",
    "\n",
    "\n",
    "arr = [1, 2, 3, 4, 5, 6, 7, 8, 9]\n",
    "n = 3\n",
    "print(spiral_order(arr, n))\n",
    "\n"
   ]
  },
  {
   "cell_type": "markdown",
   "id": "91c58941",
   "metadata": {},
   "source": [
    "\n",
    "💡 **Question 8**\n",
    "\n",
    "Given two [sparse matrices](https://en.wikipedia.org/wiki/Sparse_matrix) mat1 of size m x k and mat2 of size k x n, return the result of mat1 x mat2. You may assume that multiplication is always possible.\n",
    "\n",
    "\n",
    "**Input:** mat1 = [[1,0,0],[-1,0,3]], mat2 = [[7,0,0],[0,0,0],[0,0,1]]\n",
    "\n",
    "**Output:**\n",
    "\n",
    "[[7,0,0],[-7,0,3]]\n",
    "\n",
    "</aside>"
   ]
  },
  {
   "cell_type": "code",
   "execution_count": 8,
   "id": "16ed3ad5",
   "metadata": {},
   "outputs": [
    {
     "name": "stdout",
     "output_type": "stream",
     "text": [
      "[[7, 0, 0], [-7, 0, 3]]\n"
     ]
    }
   ],
   "source": [
    "def matrix_mul(mat1,mat2):\n",
    "    row = len(mat1)\n",
    "    col = len(mat2)\n",
    "    result = [[0]*col for _ in range(row)]\n",
    "    \n",
    "    for i in range(row):\n",
    "        for j in range(len(mat1[0])):\n",
    "            for k in range(col): \n",
    "                result[i][j] += mat1[i][k] * mat2[k][j]\n",
    "                \n",
    "    return result                                        \n",
    "            \n",
    "mat1 = [[1,0,0],[-1,0,3]]                                 \n",
    "mat2 = [[7,0,0],[0,0,0],[0,0,1]]\n",
    "print(matrix_mul(mat1,mat2))"
   ]
  },
  {
   "cell_type": "markdown",
   "id": "2ef6ec75",
   "metadata": {},
   "source": []
  },
  {
   "cell_type": "markdown",
   "id": "409df0a7",
   "metadata": {},
   "source": [
    "# Thank You"
   ]
  },
  {
   "cell_type": "markdown",
   "id": "b4f7034d",
   "metadata": {},
   "source": []
  }
 ],
 "metadata": {
  "kernelspec": {
   "display_name": "Python 3 (ipykernel)",
   "language": "python",
   "name": "python3"
  },
  "language_info": {
   "codemirror_mode": {
    "name": "ipython",
    "version": 3
   },
   "file_extension": ".py",
   "mimetype": "text/x-python",
   "name": "python",
   "nbconvert_exporter": "python",
   "pygments_lexer": "ipython3",
   "version": "3.9.13"
  }
 },
 "nbformat": 4,
 "nbformat_minor": 5
}
